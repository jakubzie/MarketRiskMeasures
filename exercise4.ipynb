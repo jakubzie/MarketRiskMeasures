{
 "cells": [
  {
   "cell_type": "code",
   "execution_count": 2,
   "metadata": {},
   "outputs": [],
   "source": [
    "import pandas as pd\n",
    "import numpy as np\n",
    "import matplotlib.pyplot as plt\n",
    "import seaborn as sns\n",
    "import warnings\n",
    "import yfinance as yf\n",
    "import datetime\n",
    "import mplfinance as mplf\n",
    "import plotly.graph_objects as go\n",
    "import scipy.stats as stats\n",
    "import pylab\n",
    "import statsmodels.api as sm\n",
    "warnings.filterwarnings('ignore')"
   ]
  },
  {
   "cell_type": "code",
   "execution_count": 3,
   "metadata": {},
   "outputs": [],
   "source": [
    "#określenie początkowej i końcowej daty\n",
    "startDate = datetime.datetime(2023, 1, 1)\n",
    "endDate = datetime.datetime(2023, 3, 1)\n",
    "#pobranie danych z yahoo finance (cena otwarcia, zamknięcia, najwyższa, najniższa)\n",
    "data = yf.Ticker(\"META\").history(start=startDate, end=endDate, interval=\"1d\")[['Open', 'Close', 'High', 'Low']]\n",
    "#obliczanie logarytmicznych stóp zwrotu\n",
    "data['log_returns'] = np.log(data['Close']) - np.log(data['Close']).shift(-1)"
   ]
  }
 ],
 "metadata": {
  "kernelspec": {
   "display_name": "base",
   "language": "python",
   "name": "python3"
  },
  "language_info": {
   "codemirror_mode": {
    "name": "ipython",
    "version": 3
   },
   "file_extension": ".py",
   "mimetype": "text/x-python",
   "name": "python",
   "nbconvert_exporter": "python",
   "pygments_lexer": "ipython3",
   "version": "3.11.5"
  }
 },
 "nbformat": 4,
 "nbformat_minor": 2
}
