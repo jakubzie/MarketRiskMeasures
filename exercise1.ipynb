{
 "cells": [
  {
   "cell_type": "markdown",
   "metadata": {},
   "source": []
  },
  {
   "cell_type": "code",
   "execution_count": 1,
   "metadata": {},
   "outputs": [],
   "source": [
    "import pandas as pd\n",
    "import numpy as np\n",
    "import matplotlib.pyplot as plt\n",
    "import seaborn as sns\n",
    "import warnings\n",
    "import yfinance as yf\n",
    "import datetime\n",
    "import mplfinance as mplf\n",
    "import plotly.graph_objects as go\n",
    "import scipy.stats as stats\n",
    "import pylab\n",
    "import statsmodels.api as sm\n",
    "warnings.filterwarnings('ignore')"
   ]
  },
  {
   "cell_type": "code",
   "execution_count": 2,
   "metadata": {},
   "outputs": [
    {
     "data": {
      "application/vnd.plotly.v1+json": {
       "config": {
        "plotlyServerURL": "https://plot.ly"
       },
       "data": [
        {
         "close": [
          124.73999786376953,
          127.37000274658203,
          126.94000244140625,
          130.02000427246094,
          129.47000122070312,
          132.99000549316406,
          132.88999938964844,
          136.7100067138672,
          136.97999572753906,
          135.36000061035156,
          133.02000427246094,
          136.14999389648438,
          139.3699951171875,
          143.27000427246094,
          143.13999938964844,
          141.5,
          147.3000030517578,
          151.74000549316406,
          147.05999755859375,
          148.97000122070312,
          153.1199951171875,
          188.77000427246094,
          186.52999877929688,
          186.05999755859375,
          191.6199951171875,
          183.42999267578125,
          177.9199981689453,
          174.14999389648438,
          179.42999267578125,
          179.47999572753906,
          177.16000366210938,
          172.44000244140625,
          172.8800048828125,
          172.0800018310547,
          171.1199951171875,
          172.0399932861328,
          170.38999938964844,
          169.5399932861328,
          174.94000244140625
         ],
         "high": [
          126.37000274658203,
          129.0500030517578,
          128.52000427246094,
          130.3300018310547,
          132.9499969482422,
          133.44000244140625,
          133.85000610351562,
          137.67999267578125,
          137.38999938964844,
          136.75,
          137.25,
          137.4499969482422,
          139.94000244140625,
          143.75999450683594,
          145,
          143.1699981689453,
          147.50999450683594,
          153.19000244140625,
          151.1199951171875,
          149.8800048828125,
          153.5800018310547,
          197.16000366210938,
          196.77000427246094,
          190.6999969482422,
          193.77999877929688,
          190.8300018310547,
          186.64999389648438,
          178.88999938964844,
          181,
          181.50999450683594,
          178.19000244140625,
          175.85000610351562,
          173.17999267578125,
          178.1699981689453,
          172.75999450683594,
          173.69000244140625,
          170.72000122070312,
          173.1199951171875,
          177.5500030517578
         ],
         "low": [
          122.27999877929688,
          125.8499984741211,
          124.54000091552734,
          126.04000091552734,
          129.27999877929688,
          127.1500015258789,
          130.33999633789062,
          131.75999450683594,
          134.83999633789062,
          134.25,
          132.8000030517578,
          132.13999938964844,
          134.61000061035156,
          138.66000366210938,
          141.36000061035156,
          140.30999755859375,
          143.3000030517578,
          147.38999938964844,
          146.9499969482422,
          147.52000427246094,
          147.05999755859375,
          180.16000366210938,
          182.88999938964844,
          185.52000427246094,
          184.39999389648438,
          182.9199981689453,
          177.27000427246094,
          173.35000610351562,
          175.82000732421875,
          175.8800048828125,
          175.3300018310547,
          171.7899932861328,
          169.6999969482422,
          171.8800048828125,
          169.69000244140625,
          169.3800048828125,
          167.66000366210938,
          169.05999755859375,
          171.8699951171875
         ],
         "open": [
          122.81999969482422,
          127.37999725341797,
          126.12999725341797,
          128.97000122070312,
          131.16000366210938,
          127.2699966430664,
          130.9600067138672,
          133.44000244140625,
          134.97000122070312,
          136.17999267578125,
          135.80999755859375,
          132.49000549316406,
          135.88999938964844,
          139.2899932861328,
          141.69000244140625,
          141.22000122070312,
          144.39999389648438,
          148.24000549316406,
          149.41000366210938,
          147.9499969482422,
          148.02999877929688,
          183.3800048828125,
          183.47000122070312,
          186.52999877929688,
          185.5800018310547,
          190,
          186.1300048828125,
          176.35000610351562,
          178.22000122070312,
          177.16000366210938,
          176.4199981689453,
          172.75,
          170.22000122070312,
          174.30999755859375,
          171.07000732421875,
          172,
          168.63999938964844,
          171.8800048828125,
          171.89999389648438
         ],
         "type": "candlestick",
         "x": [
          "2023-01-03T00:00:00-05:00",
          "2023-01-04T00:00:00-05:00",
          "2023-01-05T00:00:00-05:00",
          "2023-01-06T00:00:00-05:00",
          "2023-01-09T00:00:00-05:00",
          "2023-01-10T00:00:00-05:00",
          "2023-01-11T00:00:00-05:00",
          "2023-01-12T00:00:00-05:00",
          "2023-01-13T00:00:00-05:00",
          "2023-01-17T00:00:00-05:00",
          "2023-01-18T00:00:00-05:00",
          "2023-01-19T00:00:00-05:00",
          "2023-01-20T00:00:00-05:00",
          "2023-01-23T00:00:00-05:00",
          "2023-01-24T00:00:00-05:00",
          "2023-01-25T00:00:00-05:00",
          "2023-01-26T00:00:00-05:00",
          "2023-01-27T00:00:00-05:00",
          "2023-01-30T00:00:00-05:00",
          "2023-01-31T00:00:00-05:00",
          "2023-02-01T00:00:00-05:00",
          "2023-02-02T00:00:00-05:00",
          "2023-02-03T00:00:00-05:00",
          "2023-02-06T00:00:00-05:00",
          "2023-02-07T00:00:00-05:00",
          "2023-02-08T00:00:00-05:00",
          "2023-02-09T00:00:00-05:00",
          "2023-02-10T00:00:00-05:00",
          "2023-02-13T00:00:00-05:00",
          "2023-02-14T00:00:00-05:00",
          "2023-02-15T00:00:00-05:00",
          "2023-02-16T00:00:00-05:00",
          "2023-02-17T00:00:00-05:00",
          "2023-02-21T00:00:00-05:00",
          "2023-02-22T00:00:00-05:00",
          "2023-02-23T00:00:00-05:00",
          "2023-02-24T00:00:00-05:00",
          "2023-02-27T00:00:00-05:00",
          "2023-02-28T00:00:00-05:00"
         ]
        }
       ],
       "layout": {
        "template": {
         "data": {
          "bar": [
           {
            "error_x": {
             "color": "#2a3f5f"
            },
            "error_y": {
             "color": "#2a3f5f"
            },
            "marker": {
             "line": {
              "color": "#E5ECF6",
              "width": 0.5
             },
             "pattern": {
              "fillmode": "overlay",
              "size": 10,
              "solidity": 0.2
             }
            },
            "type": "bar"
           }
          ],
          "barpolar": [
           {
            "marker": {
             "line": {
              "color": "#E5ECF6",
              "width": 0.5
             },
             "pattern": {
              "fillmode": "overlay",
              "size": 10,
              "solidity": 0.2
             }
            },
            "type": "barpolar"
           }
          ],
          "carpet": [
           {
            "aaxis": {
             "endlinecolor": "#2a3f5f",
             "gridcolor": "white",
             "linecolor": "white",
             "minorgridcolor": "white",
             "startlinecolor": "#2a3f5f"
            },
            "baxis": {
             "endlinecolor": "#2a3f5f",
             "gridcolor": "white",
             "linecolor": "white",
             "minorgridcolor": "white",
             "startlinecolor": "#2a3f5f"
            },
            "type": "carpet"
           }
          ],
          "choropleth": [
           {
            "colorbar": {
             "outlinewidth": 0,
             "ticks": ""
            },
            "type": "choropleth"
           }
          ],
          "contour": [
           {
            "colorbar": {
             "outlinewidth": 0,
             "ticks": ""
            },
            "colorscale": [
             [
              0,
              "#0d0887"
             ],
             [
              0.1111111111111111,
              "#46039f"
             ],
             [
              0.2222222222222222,
              "#7201a8"
             ],
             [
              0.3333333333333333,
              "#9c179e"
             ],
             [
              0.4444444444444444,
              "#bd3786"
             ],
             [
              0.5555555555555556,
              "#d8576b"
             ],
             [
              0.6666666666666666,
              "#ed7953"
             ],
             [
              0.7777777777777778,
              "#fb9f3a"
             ],
             [
              0.8888888888888888,
              "#fdca26"
             ],
             [
              1,
              "#f0f921"
             ]
            ],
            "type": "contour"
           }
          ],
          "contourcarpet": [
           {
            "colorbar": {
             "outlinewidth": 0,
             "ticks": ""
            },
            "type": "contourcarpet"
           }
          ],
          "heatmap": [
           {
            "colorbar": {
             "outlinewidth": 0,
             "ticks": ""
            },
            "colorscale": [
             [
              0,
              "#0d0887"
             ],
             [
              0.1111111111111111,
              "#46039f"
             ],
             [
              0.2222222222222222,
              "#7201a8"
             ],
             [
              0.3333333333333333,
              "#9c179e"
             ],
             [
              0.4444444444444444,
              "#bd3786"
             ],
             [
              0.5555555555555556,
              "#d8576b"
             ],
             [
              0.6666666666666666,
              "#ed7953"
             ],
             [
              0.7777777777777778,
              "#fb9f3a"
             ],
             [
              0.8888888888888888,
              "#fdca26"
             ],
             [
              1,
              "#f0f921"
             ]
            ],
            "type": "heatmap"
           }
          ],
          "heatmapgl": [
           {
            "colorbar": {
             "outlinewidth": 0,
             "ticks": ""
            },
            "colorscale": [
             [
              0,
              "#0d0887"
             ],
             [
              0.1111111111111111,
              "#46039f"
             ],
             [
              0.2222222222222222,
              "#7201a8"
             ],
             [
              0.3333333333333333,
              "#9c179e"
             ],
             [
              0.4444444444444444,
              "#bd3786"
             ],
             [
              0.5555555555555556,
              "#d8576b"
             ],
             [
              0.6666666666666666,
              "#ed7953"
             ],
             [
              0.7777777777777778,
              "#fb9f3a"
             ],
             [
              0.8888888888888888,
              "#fdca26"
             ],
             [
              1,
              "#f0f921"
             ]
            ],
            "type": "heatmapgl"
           }
          ],
          "histogram": [
           {
            "marker": {
             "pattern": {
              "fillmode": "overlay",
              "size": 10,
              "solidity": 0.2
             }
            },
            "type": "histogram"
           }
          ],
          "histogram2d": [
           {
            "colorbar": {
             "outlinewidth": 0,
             "ticks": ""
            },
            "colorscale": [
             [
              0,
              "#0d0887"
             ],
             [
              0.1111111111111111,
              "#46039f"
             ],
             [
              0.2222222222222222,
              "#7201a8"
             ],
             [
              0.3333333333333333,
              "#9c179e"
             ],
             [
              0.4444444444444444,
              "#bd3786"
             ],
             [
              0.5555555555555556,
              "#d8576b"
             ],
             [
              0.6666666666666666,
              "#ed7953"
             ],
             [
              0.7777777777777778,
              "#fb9f3a"
             ],
             [
              0.8888888888888888,
              "#fdca26"
             ],
             [
              1,
              "#f0f921"
             ]
            ],
            "type": "histogram2d"
           }
          ],
          "histogram2dcontour": [
           {
            "colorbar": {
             "outlinewidth": 0,
             "ticks": ""
            },
            "colorscale": [
             [
              0,
              "#0d0887"
             ],
             [
              0.1111111111111111,
              "#46039f"
             ],
             [
              0.2222222222222222,
              "#7201a8"
             ],
             [
              0.3333333333333333,
              "#9c179e"
             ],
             [
              0.4444444444444444,
              "#bd3786"
             ],
             [
              0.5555555555555556,
              "#d8576b"
             ],
             [
              0.6666666666666666,
              "#ed7953"
             ],
             [
              0.7777777777777778,
              "#fb9f3a"
             ],
             [
              0.8888888888888888,
              "#fdca26"
             ],
             [
              1,
              "#f0f921"
             ]
            ],
            "type": "histogram2dcontour"
           }
          ],
          "mesh3d": [
           {
            "colorbar": {
             "outlinewidth": 0,
             "ticks": ""
            },
            "type": "mesh3d"
           }
          ],
          "parcoords": [
           {
            "line": {
             "colorbar": {
              "outlinewidth": 0,
              "ticks": ""
             }
            },
            "type": "parcoords"
           }
          ],
          "pie": [
           {
            "automargin": true,
            "type": "pie"
           }
          ],
          "scatter": [
           {
            "fillpattern": {
             "fillmode": "overlay",
             "size": 10,
             "solidity": 0.2
            },
            "type": "scatter"
           }
          ],
          "scatter3d": [
           {
            "line": {
             "colorbar": {
              "outlinewidth": 0,
              "ticks": ""
             }
            },
            "marker": {
             "colorbar": {
              "outlinewidth": 0,
              "ticks": ""
             }
            },
            "type": "scatter3d"
           }
          ],
          "scattercarpet": [
           {
            "marker": {
             "colorbar": {
              "outlinewidth": 0,
              "ticks": ""
             }
            },
            "type": "scattercarpet"
           }
          ],
          "scattergeo": [
           {
            "marker": {
             "colorbar": {
              "outlinewidth": 0,
              "ticks": ""
             }
            },
            "type": "scattergeo"
           }
          ],
          "scattergl": [
           {
            "marker": {
             "colorbar": {
              "outlinewidth": 0,
              "ticks": ""
             }
            },
            "type": "scattergl"
           }
          ],
          "scattermapbox": [
           {
            "marker": {
             "colorbar": {
              "outlinewidth": 0,
              "ticks": ""
             }
            },
            "type": "scattermapbox"
           }
          ],
          "scatterpolar": [
           {
            "marker": {
             "colorbar": {
              "outlinewidth": 0,
              "ticks": ""
             }
            },
            "type": "scatterpolar"
           }
          ],
          "scatterpolargl": [
           {
            "marker": {
             "colorbar": {
              "outlinewidth": 0,
              "ticks": ""
             }
            },
            "type": "scatterpolargl"
           }
          ],
          "scatterternary": [
           {
            "marker": {
             "colorbar": {
              "outlinewidth": 0,
              "ticks": ""
             }
            },
            "type": "scatterternary"
           }
          ],
          "surface": [
           {
            "colorbar": {
             "outlinewidth": 0,
             "ticks": ""
            },
            "colorscale": [
             [
              0,
              "#0d0887"
             ],
             [
              0.1111111111111111,
              "#46039f"
             ],
             [
              0.2222222222222222,
              "#7201a8"
             ],
             [
              0.3333333333333333,
              "#9c179e"
             ],
             [
              0.4444444444444444,
              "#bd3786"
             ],
             [
              0.5555555555555556,
              "#d8576b"
             ],
             [
              0.6666666666666666,
              "#ed7953"
             ],
             [
              0.7777777777777778,
              "#fb9f3a"
             ],
             [
              0.8888888888888888,
              "#fdca26"
             ],
             [
              1,
              "#f0f921"
             ]
            ],
            "type": "surface"
           }
          ],
          "table": [
           {
            "cells": {
             "fill": {
              "color": "#EBF0F8"
             },
             "line": {
              "color": "white"
             }
            },
            "header": {
             "fill": {
              "color": "#C8D4E3"
             },
             "line": {
              "color": "white"
             }
            },
            "type": "table"
           }
          ]
         },
         "layout": {
          "annotationdefaults": {
           "arrowcolor": "#2a3f5f",
           "arrowhead": 0,
           "arrowwidth": 1
          },
          "autotypenumbers": "strict",
          "coloraxis": {
           "colorbar": {
            "outlinewidth": 0,
            "ticks": ""
           }
          },
          "colorscale": {
           "diverging": [
            [
             0,
             "#8e0152"
            ],
            [
             0.1,
             "#c51b7d"
            ],
            [
             0.2,
             "#de77ae"
            ],
            [
             0.3,
             "#f1b6da"
            ],
            [
             0.4,
             "#fde0ef"
            ],
            [
             0.5,
             "#f7f7f7"
            ],
            [
             0.6,
             "#e6f5d0"
            ],
            [
             0.7,
             "#b8e186"
            ],
            [
             0.8,
             "#7fbc41"
            ],
            [
             0.9,
             "#4d9221"
            ],
            [
             1,
             "#276419"
            ]
           ],
           "sequential": [
            [
             0,
             "#0d0887"
            ],
            [
             0.1111111111111111,
             "#46039f"
            ],
            [
             0.2222222222222222,
             "#7201a8"
            ],
            [
             0.3333333333333333,
             "#9c179e"
            ],
            [
             0.4444444444444444,
             "#bd3786"
            ],
            [
             0.5555555555555556,
             "#d8576b"
            ],
            [
             0.6666666666666666,
             "#ed7953"
            ],
            [
             0.7777777777777778,
             "#fb9f3a"
            ],
            [
             0.8888888888888888,
             "#fdca26"
            ],
            [
             1,
             "#f0f921"
            ]
           ],
           "sequentialminus": [
            [
             0,
             "#0d0887"
            ],
            [
             0.1111111111111111,
             "#46039f"
            ],
            [
             0.2222222222222222,
             "#7201a8"
            ],
            [
             0.3333333333333333,
             "#9c179e"
            ],
            [
             0.4444444444444444,
             "#bd3786"
            ],
            [
             0.5555555555555556,
             "#d8576b"
            ],
            [
             0.6666666666666666,
             "#ed7953"
            ],
            [
             0.7777777777777778,
             "#fb9f3a"
            ],
            [
             0.8888888888888888,
             "#fdca26"
            ],
            [
             1,
             "#f0f921"
            ]
           ]
          },
          "colorway": [
           "#636efa",
           "#EF553B",
           "#00cc96",
           "#ab63fa",
           "#FFA15A",
           "#19d3f3",
           "#FF6692",
           "#B6E880",
           "#FF97FF",
           "#FECB52"
          ],
          "font": {
           "color": "#2a3f5f"
          },
          "geo": {
           "bgcolor": "white",
           "lakecolor": "white",
           "landcolor": "#E5ECF6",
           "showlakes": true,
           "showland": true,
           "subunitcolor": "white"
          },
          "hoverlabel": {
           "align": "left"
          },
          "hovermode": "closest",
          "mapbox": {
           "style": "light"
          },
          "paper_bgcolor": "white",
          "plot_bgcolor": "#E5ECF6",
          "polar": {
           "angularaxis": {
            "gridcolor": "white",
            "linecolor": "white",
            "ticks": ""
           },
           "bgcolor": "#E5ECF6",
           "radialaxis": {
            "gridcolor": "white",
            "linecolor": "white",
            "ticks": ""
           }
          },
          "scene": {
           "xaxis": {
            "backgroundcolor": "#E5ECF6",
            "gridcolor": "white",
            "gridwidth": 2,
            "linecolor": "white",
            "showbackground": true,
            "ticks": "",
            "zerolinecolor": "white"
           },
           "yaxis": {
            "backgroundcolor": "#E5ECF6",
            "gridcolor": "white",
            "gridwidth": 2,
            "linecolor": "white",
            "showbackground": true,
            "ticks": "",
            "zerolinecolor": "white"
           },
           "zaxis": {
            "backgroundcolor": "#E5ECF6",
            "gridcolor": "white",
            "gridwidth": 2,
            "linecolor": "white",
            "showbackground": true,
            "ticks": "",
            "zerolinecolor": "white"
           }
          },
          "shapedefaults": {
           "line": {
            "color": "#2a3f5f"
           }
          },
          "ternary": {
           "aaxis": {
            "gridcolor": "white",
            "linecolor": "white",
            "ticks": ""
           },
           "baxis": {
            "gridcolor": "white",
            "linecolor": "white",
            "ticks": ""
           },
           "bgcolor": "#E5ECF6",
           "caxis": {
            "gridcolor": "white",
            "linecolor": "white",
            "ticks": ""
           }
          },
          "title": {
           "x": 0.05
          },
          "xaxis": {
           "automargin": true,
           "gridcolor": "white",
           "linecolor": "white",
           "ticks": "",
           "title": {
            "standoff": 15
           },
           "zerolinecolor": "white",
           "zerolinewidth": 2
          },
          "yaxis": {
           "automargin": true,
           "gridcolor": "white",
           "linecolor": "white",
           "ticks": "",
           "title": {
            "standoff": 15
           },
           "zerolinecolor": "white",
           "zerolinewidth": 2
          }
         }
        },
        "title": {
         "text": "Wykres świeciowy dla firmy META"
        },
        "xaxis": {
         "dtick": "D1",
         "rangeslider": {
          "visible": false
         },
         "tickangle": 90,
         "tickformat": "%d %b %Y",
         "title": {
          "text": "Data"
         }
        },
        "yaxis": {
         "title": {
          "text": "Cena"
         }
        }
       }
      }
     },
     "metadata": {},
     "output_type": "display_data"
    }
   ],
   "source": [
    "#określenie początkowej i końcowej daty\n",
    "startDate = datetime.datetime(2023, 1, 1)\n",
    "endDate = datetime.datetime(2023, 3, 1)\n",
    "#pobranie danych z yahoo finance (cena otwarcia, zamknięcia, najwyższa, najniższa)\n",
    "data = yf.Ticker(\"META\").history(start=startDate, end=endDate, interval=\"1d\")[['Open', 'Close', 'High', 'Low']]\n",
    "#utworzenie wykresu świecowego\n",
    "fig = go.Figure(data=[go.Candlestick(x=data.index,\n",
    "                open=data['Open'],\n",
    "                high=data['High'],\n",
    "                low=data['Low'],\n",
    "                close=data['Close'])])\n",
    "fig.update_layout(title=\"Wykres świeciowy dla firmy META\",\n",
    "                  yaxis_title=\"Cena\",\n",
    "                  xaxis_title=\"Data\",\n",
    "                  xaxis_rangeslider_visible=False)\n",
    "fig.update_xaxes(dtick=\"D1\", tickformat=\"%d %b %Y\", tickangle=90)\n",
    "\n"
   ]
  },
  {
   "cell_type": "code",
   "execution_count": 3,
   "metadata": {},
   "outputs": [
    {
     "data": {
      "image/png": "[encoded data removed]",
      "text/plain": [
       "<Figure size 640x480 with 1 Axes>"
      ]
     },
     "metadata": {},
     "output_type": "display_data"
    }
   ],
   "source": [
    "#obliczanie logarytmicznych stóp zwrotu\n",
    "data['log_returns'] = np.log(data['Close']) - np.log(data['Close']).shift(-1)\n",
    "#obliczenie statystyk opisowych dla logarytmicznych stóp zwrotu\n",
    "log_returns_stats = data['log_returns'].describe(percentiles=[.01, .05, .95, .99])[1:]\n",
    "#tworzenie wykresu pudełkowego dla logarytmicznych stóp zwrotu\n",
    "sns.boxplot(data['log_returns'], orient='h')\n",
    "plt.title(\"Wykres pudełkowy dla logarytmicznych stóp zwrotu\")\n",
    "plt.yticks([0], [''])\n",
    "plt.show()"
   ]
  },
  {
   "cell_type": "code",
   "execution_count": 4,
   "metadata": {},
   "outputs": [
    {
     "data": {
      "image/png": "[encoded data removed]",
      "text/plain": [
       "<Figure size 640x480 with 1 Axes>"
      ]
     },
     "metadata": {},
     "output_type": "display_data"
    }
   ],
   "source": [
    "#stworzenie histogramu i wykresu gęstości dla logarytmicznych stóp zwrotu\n",
    "sns.distplot(data['log_returns'], hist=True, kde=True).set(xlabel='Logarytmiczne stopy zwrotu',ylabel='Gęstość')\n",
    "plt.title(\"Wykres gęstości i histogram dla logarytmicznych stóp zwrotu\")\n",
    "plt.show()"
   ]
  },
  {
   "cell_type": "code",
   "execution_count": 5,
   "metadata": {},
   "outputs": [
    {
     "data": {
      "image/png": "[encoded data removed]",
      "text/plain": [
       "<Figure size 640x480 with 1 Axes>"
      ]
     },
     "metadata": {},
     "output_type": "display_data"
    }
   ],
   "source": [
    "#stworzenie q-q plot dla logarytmicznych stóp zwrotu\n",
    "sm.qqplot(data['log_returns'], line='q',xlabel='Kwantyle teoretyczne',ylabel='Kwantyle empiryczne')\n",
    "plt.title(\"Wykres Q-Q dla logarytmicznych stóp zwrotu\")\n",
    "pylab.show()\n"
   ]
  },
  {
   "cell_type": "code",
   "execution_count": 6,
   "metadata": {},
   "outputs": [
    {
     "name": "stdout",
     "output_type": "stream",
     "text": [
      "P-value:  3.5362972994334996e-08\n",
      "P-value < 0.05 więc odrzucamy hipotezę zerową o normalności rozkładu logarytmicznych stóp zwrotu\n"
     ]
    }
   ],
   "source": [
    "#sprawdzenie z pomocą testu Shapiro-Wilka czy logarytmiczne stopy zwrotu mają rozkład normalny\n",
    "#H0: dane mają rozkład normalny\n",
    "#H1: dane nie mają rozkładu normalnego\n",
    "shapiro_wilk = stats.shapiro(data['log_returns'].dropna())\n",
    "print(\"P-value: \", shapiro_wilk[1])\n",
    "if shapiro_wilk[1] < 0.05:\n",
    "    print(\"P-value < 0.05 więc odrzucamy hipotezę zerową o normalności rozkładu logarytmicznych stóp zwrotu\")\n",
    "else:\n",
    "    print(\"P-value >= 0.05 więc nie odrzucamy hipotezy zerowej o normalności rozkładu logarytmicznych stóp zwrotu\")\n"
   ]
  },
  {
   "cell_type": "code",
   "execution_count": 7,
   "metadata": {},
   "outputs": [
    {
     "name": "stdout",
     "output_type": "stream",
     "text": [
      "P-value:  1.1454720147749795e-102\n",
      "P-value < 0.05 więc odrzucamy hipotezę zerową o normalności rozkładu logarytmicznych stóp zwrotu\n"
     ]
    }
   ],
   "source": [
    "#sprawdzenie z pomocą testu Jarque-Bera czy logarytmiczne stopy zwrotu mają rozkład normalny\n",
    "#H0: dane mają rozkład normalny\n",
    "#H1: dane nie mają rozkładu normalnego\n",
    "jarque_bera = stats.jarque_bera(data['log_returns'].dropna())\n",
    "print(\"P-value: \", jarque_bera[1])\n",
    "if jarque_bera[1] < 0.05:\n",
    "    print(\"P-value < 0.05 więc odrzucamy hipotezę zerową o normalności rozkładu logarytmicznych stóp zwrotu\")\n",
    "else:\n",
    "    print(\"P-value >= 0.05 więc nie odrzucamy hipotezy zerowej o normalności rozkładu logarytmicznych stóp zwrotu\")"
   ]
  },
  {
   "cell_type": "code",
   "execution_count": 8,
   "metadata": {},
   "outputs": [
    {
     "name": "stdout",
     "output_type": "stream",
     "text": [
      "P-value >= 0.05 więc nie odrzucamy hipotezy zerowej o braku autokorelacji dla stóp zwrotu\n"
     ]
    }
   ],
   "source": [
    "#sprawdzenie z pomocą testu Ljung-Boxa czy występuje autokorelacja dla stóp zwrotu\n",
    "#H0: nie występuje autokorelacja\n",
    "#H1: występuje autokorelacja\n",
    "ljung_box = sm.stats.acorr_ljungbox(data['log_returns'].dropna(), lags=[10], return_df=True)\n",
    "if ljung_box[\"lb_pvalue\"].values[0] < 0.05:\n",
    "    print(\"P-value < 0.05 więc odrzucamy hipotezę zerową o braku autokorelacji dla stóp zwrotu\")\n",
    "else:\n",
    "    print(\"P-value >= 0.05 więc nie odrzucamy hipotezy zerowej o braku autokorelacji dla stóp zwrotu\")"
   ]
  },
  {
   "cell_type": "code",
   "execution_count": 9,
   "metadata": {},
   "outputs": [
    {
     "name": "stdout",
     "output_type": "stream",
     "text": [
      "Statystyka Durbin-Watsona wynosi:  1.8532692258574819\n",
      "Statystyka Durbin-Watsona należy do przedziału [1.5, 2.5] więc nie odrzucamy hipotezy zerowej o niezależności zmiennych\n"
     ]
    }
   ],
   "source": [
    "#sprawdzenie z pomocą testu Durbin-Watsona czy zmienne są niezależne\n",
    "#H0: zmienne są niezależne\n",
    "#H1: zmienne nie są niezależne\n",
    "durbin_watson = sm.stats.durbin_watson(data['log_returns'].dropna())\n",
    "if durbin_watson < 1.5 or durbin_watson > 2.5:\n",
    "    print(\"Statystyka Durbin-Watsona wynosi: \", durbin_watson)\n",
    "    print(\"Statystyka Durbin-Watsona nie należy do przedziału [1.5, 2.5] więc odrzucamy hipotezę zerową o niezależności zmiennych\")\n",
    "else:\n",
    "    print(\"Statystyka Durbin-Watsona wynosi: \", durbin_watson)\n",
    "    print(\"Statystyka Durbin-Watsona należy do przedziału [1.5, 2.5] więc nie odrzucamy hipotezy zerowej o niezależności zmiennych\")"
   ]
  },
  {
   "cell_type": "code",
   "execution_count": 55,
   "metadata": {},
   "outputs": [
    {
     "name": "stdout",
     "output_type": "stream",
     "text": [
      "     returns  normal_distribution  chebyshev_inequality\n",
      "1   0.897436             0.682689              0.000000\n",
      "2   0.948718             0.954500              0.750000\n",
      "3   0.948718             0.997300              0.888889\n",
      "4   0.948718             0.999937              0.937500\n",
      "5   0.948718             0.999999              0.960000\n",
      "6   0.974359             1.000000              0.972222\n",
      "7   0.974359             1.000000              0.979592\n",
      "8   0.974359             1.000000              0.984375\n",
      "9   0.974359             1.000000              0.987654\n",
      "10  0.974359             1.000000              0.990000\n"
     ]
    }
   ],
   "source": [
    "#obliczenie średniej i odchylenia standardowego stóp zwrotu\n",
    "mean = data['log_returns'].mean()\n",
    "std = data['log_returns'].std()\n",
    "#stworzenie tabeli do porównania \n",
    "comparison = pd.DataFrame(columns=[\"returns\"])\n",
    "comparison[\"returns\"] = [0]*11\n",
    "comparison[\"normal_distribution\"] = [0]*11\n",
    "comparison[\"chebyshev_inequality\"] = [0]*11\n",
    "#uzupełnienie tabeli \n",
    "for i in range(1,11):\n",
    "    #odsetkami stóp zwrotu w przedziale  (średnia - i*odchylenie standardowe; średnia + i*odchylenie standardowe)\n",
    "    comparison[\"returns\"][i] = len(data[(data['log_returns'] < mean+std*i) & (data['log_returns'] > mean-std*i)])/len(data)\n",
    "    #analogicznymi odsetkami dla rozkładu normalnego\n",
    "    comparison[\"normal_distribution\"][i] = stats.norm.cdf(mean+std*i, mean, std) - stats.norm.cdf(mean-std*i, mean, std)\n",
    "    #analogicznymi odsetkami dla nierówności Czebyszewa\n",
    "    comparison[\"chebyshev_inequality\"][i] = 1 - 1/(i**2)\n",
    "comparison.drop(comparison.index[0], inplace=True)\n",
    "\n",
    "print(comparison)\n",
    "    "
   ]
  },
  {
   "cell_type": "code",
   "execution_count": 74,
   "metadata": {},
   "outputs": [
    {
     "data": {
      "image/png": "[encoded data removed]",
      "text/plain": [
       "<Figure size 640x480 with 1 Axes>"
      ]
     },
     "metadata": {},
     "output_type": "display_data"
    }
   ],
   "source": [
    "#estymuje najlepszy rozkład t-Studenta dla wektora stóp zwrotu i porównanie jego dopasowania z rozkładem normalnym o średniej i wariancji pochodzącymi z wektora stóp zwrotu\n",
    "\n",
    "#estymacja parametrów rozkładu t-Studenta\n",
    "params = stats.t.fit(data['log_returns'].dropna())\n",
    "#estymacja parametrów rozkładu normalnego\n",
    "params_normal = stats.norm.fit(data['log_returns'].dropna())\n",
    "\n",
    "#stworzenie wektora wartości dla rozkładu t-Studenta i normalnego\n",
    "x = np.linspace(data['log_returns'].min()-0.3, data['log_returns'].max()+0.3, 1000)\n",
    "pdf_fitted_t = stats.t.pdf(x, *params)\n",
    "pdf_fitted_normal = stats.norm.pdf(x, *params_normal)\n",
    "\n",
    "#stworzenie histogramu i wykresu gęstości dla stóp zwrotu\n",
    "sns.histplot(data['log_returns']).set(xlabel='Logarytmiczne stopy zwrotu',ylabel='Gęstość',xlim=(-0.3,0.3))\n",
    "#dodanie do wykresu gęstości rozkładu t-Studenta i normalnego\n",
    "plt.plot(x, pdf_fitted_t, color='r')\n",
    "plt.plot(x, pdf_fitted_normal, color='g')\n",
    "plt.legend(['Rozkład t-Studenta', 'Rozkład normalny'])\n",
    "plt.title(\"Wykres gęstości i histogram dla logarytmicznych stóp zwrotu\")\n",
    "plt.show()"
   ]
  },
  {
   "cell_type": "code",
   "execution_count": 99,
   "metadata": {},
   "outputs": [
    {
     "data": {
      "image/png": "[encoded data removed]",
      "text/plain": [
       "<Figure size 640x480 with 2 Axes>"
      ]
     },
     "metadata": {},
     "output_type": "display_data"
    }
   ],
   "source": [
    "#wyznacza co najmniej dwie miary zmienności stóp zwrotu i przedstawia je na wykresie;\n",
    "std = data['log_returns'].std()\n",
    "mean = data['log_returns'].mean()\n",
    "wsp_zm = std/mean\n",
    "#przedstawienie miar zmienności na wykresach słupkowych\n",
    "fig, axes = plt.subplots(1, 2)\n",
    "fig.suptitle('Miary zmienności')\n",
    "axes[0].bar(['std'], [std])\n",
    "axes[1].bar(['wsp_zm'], [wsp_zm])\n",
    "plt.show()"
   ]
  }
 ],
 "metadata": {
  "kernelspec": {
   "display_name": "base",
   "language": "python",
   "name": "python3"
  },
  "language_info": {
   "codemirror_mode": {
    "name": "ipython",
    "version": 3
   },
   "file_extension": ".py",
   "mimetype": "text/x-python",
   "name": "python",
   "nbconvert_exporter": "python",
   "pygments_lexer": "ipython3",
   "version": "3.11.5"
  }
 },
 "nbformat": 4,
 "nbformat_minor": 2
}
